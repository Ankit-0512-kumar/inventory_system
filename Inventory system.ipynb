{
 "cells": [
  {
   "cell_type": "code",
   "execution_count": 9,
   "id": "6fd362e5",
   "metadata": {},
   "outputs": [
    {
     "data": {
      "text/html": [
       "<div>\n",
       "<style scoped>\n",
       "    .dataframe tbody tr th:only-of-type {\n",
       "        vertical-align: middle;\n",
       "    }\n",
       "\n",
       "    .dataframe tbody tr th {\n",
       "        vertical-align: top;\n",
       "    }\n",
       "\n",
       "    .dataframe thead th {\n",
       "        text-align: right;\n",
       "    }\n",
       "</style>\n",
       "<table border=\"1\" class=\"dataframe\">\n",
       "  <thead>\n",
       "    <tr style=\"text-align: right;\">\n",
       "      <th></th>\n",
       "      <th>Item Number</th>\n",
       "      <th>Date</th>\n",
       "      <th>Inventory</th>\n",
       "    </tr>\n",
       "  </thead>\n",
       "  <tbody>\n",
       "    <tr>\n",
       "      <th>0</th>\n",
       "      <td>064-01-1347</td>\n",
       "      <td>2023-06-17</td>\n",
       "      <td>3561</td>\n",
       "    </tr>\n",
       "    <tr>\n",
       "      <th>1</th>\n",
       "      <td>064-01-1361</td>\n",
       "      <td>2023-06-17</td>\n",
       "      <td>4035</td>\n",
       "    </tr>\n",
       "    <tr>\n",
       "      <th>2</th>\n",
       "      <td>064-01-1375</td>\n",
       "      <td>2023-06-17</td>\n",
       "      <td>2684</td>\n",
       "    </tr>\n",
       "    <tr>\n",
       "      <th>3</th>\n",
       "      <td>064-01-1385</td>\n",
       "      <td>2023-06-17</td>\n",
       "      <td>5136</td>\n",
       "    </tr>\n",
       "    <tr>\n",
       "      <th>4</th>\n",
       "      <td>064-01-1399</td>\n",
       "      <td>2023-06-17</td>\n",
       "      <td>6399</td>\n",
       "    </tr>\n",
       "  </tbody>\n",
       "</table>\n",
       "</div>"
      ],
      "text/plain": [
       "   Item Number       Date  Inventory\n",
       "0  064-01-1347 2023-06-17       3561\n",
       "1  064-01-1361 2023-06-17       4035\n",
       "2  064-01-1375 2023-06-17       2684\n",
       "3  064-01-1385 2023-06-17       5136\n",
       "4  064-01-1399 2023-06-17       6399"
      ]
     },
     "execution_count": 9,
     "metadata": {},
     "output_type": "execute_result"
    }
   ],
   "source": [
    "import pandas as pd\n",
    "\n",
    "# Read the 1st dataset from Excel file\n",
    "df1 = pd.read_excel('Inventory Dataset.xlsx')\n",
    "print(df1)\n",
    "\n"
   ]
  },
  {
   "cell_type": "code",
   "execution_count": 10,
   "id": "8d1b2413",
   "metadata": {},
   "outputs": [
    {
     "data": {
      "text/html": [
       "<div>\n",
       "<style scoped>\n",
       "    .dataframe tbody tr th:only-of-type {\n",
       "        vertical-align: middle;\n",
       "    }\n",
       "\n",
       "    .dataframe tbody tr th {\n",
       "        vertical-align: top;\n",
       "    }\n",
       "\n",
       "    .dataframe thead th {\n",
       "        text-align: right;\n",
       "    }\n",
       "</style>\n",
       "<table border=\"1\" class=\"dataframe\">\n",
       "  <thead>\n",
       "    <tr style=\"text-align: right;\">\n",
       "      <th></th>\n",
       "      <th>Item Number</th>\n",
       "      <th>Inventory Receive</th>\n",
       "      <th>Total Item Qty</th>\n",
       "    </tr>\n",
       "  </thead>\n",
       "  <tbody>\n",
       "    <tr>\n",
       "      <th>0</th>\n",
       "      <td>064-13-0002</td>\n",
       "      <td>2023-07-07</td>\n",
       "      <td>700</td>\n",
       "    </tr>\n",
       "    <tr>\n",
       "      <th>1</th>\n",
       "      <td>064-13-0338</td>\n",
       "      <td>2023-07-07</td>\n",
       "      <td>1700</td>\n",
       "    </tr>\n",
       "    <tr>\n",
       "      <th>2</th>\n",
       "      <td>064-13-0340</td>\n",
       "      <td>2023-07-07</td>\n",
       "      <td>1000</td>\n",
       "    </tr>\n",
       "    <tr>\n",
       "      <th>3</th>\n",
       "      <td>064-13-0353</td>\n",
       "      <td>2023-07-07</td>\n",
       "      <td>1900</td>\n",
       "    </tr>\n",
       "    <tr>\n",
       "      <th>4</th>\n",
       "      <td>064-13-0416</td>\n",
       "      <td>2023-07-07</td>\n",
       "      <td>1000</td>\n",
       "    </tr>\n",
       "  </tbody>\n",
       "</table>\n",
       "</div>"
      ],
      "text/plain": [
       "   Item Number Inventory Receive  Total Item Qty\n",
       "0  064-13-0002        2023-07-07             700\n",
       "1  064-13-0338        2023-07-07            1700\n",
       "2  064-13-0340        2023-07-07            1000\n",
       "3  064-13-0353        2023-07-07            1900\n",
       "4  064-13-0416        2023-07-07            1000"
      ]
     },
     "execution_count": 10,
     "metadata": {},
     "output_type": "execute_result"
    }
   ],
   "source": [
    "# Read the 2nd dataset from Excel file\n",
    "df2 = pd.read_excel('New Inventory.xlsx')\n",
    "df2.head()"
   ]
  },
  {
   "cell_type": "code",
   "execution_count": 14,
   "id": "fde56c08",
   "metadata": {},
   "outputs": [],
   "source": [
    "# Convert date columns to datetime format\n",
    "df1['Date'] = pd.to_datetime(df1['Date'], format='%d-%m-%Y')\n",
    "\n",
    "df2['Inventory Receive'] = pd.to_datetime(df2['Inventory Receive'], format='%d-%m-%Y')\n",
    "\n"
   ]
  },
  {
   "cell_type": "code",
   "execution_count": 16,
   "id": "b04ecab1",
   "metadata": {},
   "outputs": [],
   "source": [
    "# Merge datasets on 'item number'\n",
    "merged_df = pd.merge(df1, df2, on='Item Number', how='outer')"
   ]
  },
  {
   "cell_type": "code",
   "execution_count": 18,
   "id": "3f402480",
   "metadata": {},
   "outputs": [],
   "source": [
    "# Forward fill NaN values in 'inventory receive date' and 'item qty' columns\n",
    "merged_df['Inventory Receive'] = merged_df['Inventory Receive'].ffill()\n",
    "merged_df['Total Item Qty'] = merged_df['Total Item Qty'].fillna(0)\n"
   ]
  },
  {
   "cell_type": "code",
   "execution_count": 19,
   "id": "bafad463",
   "metadata": {},
   "outputs": [],
   "source": [
    "# Calculate cumulative sum of 'item qty' for each item and date\n",
    "merged_df['cumulative_qty'] = merged_df.groupby(['Item Number'])['Total Item Qty'].cumsum()"
   ]
  },
  {
   "cell_type": "code",
   "execution_count": 20,
   "id": "e27c186c",
   "metadata": {},
   "outputs": [],
   "source": [
    "# Pivot the table to get inventory levels at different dates for each item\n",
    "pivot_table = pd.pivot_table(merged_df, values='cumulative_qty', index=['Item Number'], columns='Date', aggfunc='last', fill_value=0)"
   ]
  },
  {
   "cell_type": "code",
   "execution_count": 24,
   "id": "1fa35ba4",
   "metadata": {},
   "outputs": [
    {
     "name": "stdout",
     "output_type": "stream",
     "text": [
      "Date         2023-06-17\n",
      "Item Number            \n",
      "064-01-0006           0\n",
      "064-01-1346        7936\n",
      "064-01-1347        8368\n",
      "064-01-1348        5552\n",
      "064-01-1349        8448\n",
      "...                 ...\n",
      "064-18-9878           0\n",
      "064-18-9884           0\n",
      "064-18-9909           0\n",
      "064-18-9938       15448\n",
      "064-18-9962           0\n",
      "\n",
      "[356 rows x 1 columns]\n"
     ]
    },
    {
     "data": {
      "text/html": [
       "<div>\n",
       "<style scoped>\n",
       "    .dataframe tbody tr th:only-of-type {\n",
       "        vertical-align: middle;\n",
       "    }\n",
       "\n",
       "    .dataframe tbody tr th {\n",
       "        vertical-align: top;\n",
       "    }\n",
       "\n",
       "    .dataframe thead th {\n",
       "        text-align: right;\n",
       "    }\n",
       "</style>\n",
       "<table border=\"1\" class=\"dataframe\">\n",
       "  <thead>\n",
       "    <tr style=\"text-align: right;\">\n",
       "      <th>Date</th>\n",
       "      <th>2023-06-17</th>\n",
       "    </tr>\n",
       "    <tr>\n",
       "      <th>Item Number</th>\n",
       "      <th></th>\n",
       "    </tr>\n",
       "  </thead>\n",
       "  <tbody>\n",
       "    <tr>\n",
       "      <th>064-01-0006</th>\n",
       "      <td>0</td>\n",
       "    </tr>\n",
       "    <tr>\n",
       "      <th>064-01-1346</th>\n",
       "      <td>7936</td>\n",
       "    </tr>\n",
       "    <tr>\n",
       "      <th>064-01-1347</th>\n",
       "      <td>8368</td>\n",
       "    </tr>\n",
       "    <tr>\n",
       "      <th>064-01-1348</th>\n",
       "      <td>5552</td>\n",
       "    </tr>\n",
       "    <tr>\n",
       "      <th>064-01-1349</th>\n",
       "      <td>8448</td>\n",
       "    </tr>\n",
       "  </tbody>\n",
       "</table>\n",
       "</div>"
      ],
      "text/plain": [
       "Date         2023-06-17\n",
       "Item Number            \n",
       "064-01-0006           0\n",
       "064-01-1346        7936\n",
       "064-01-1347        8368\n",
       "064-01-1348        5552\n",
       "064-01-1349        8448"
      ]
     },
     "execution_count": 24,
     "metadata": {},
     "output_type": "execute_result"
    }
   ],
   "source": [
    "# Display the result\n",
    "print(pivot_table)\n",
    "pivot_table.head()"
   ]
  },
  {
   "cell_type": "code",
   "execution_count": 23,
   "id": "9357f092",
   "metadata": {},
   "outputs": [
    {
     "data": {
      "text/plain": [
       "<Figure size 1000x600 with 0 Axes>"
      ]
     },
     "metadata": {},
     "output_type": "display_data"
    },
    {
     "data": {
      "image/png": "[encoded data removed]",
      "text/plain": [
       "<Figure size 640x480 with 1 Axes>"
      ]
     },
     "metadata": {},
     "output_type": "display_data"
    }
   ],
   "source": [
    "import matplotlib.pyplot as plt\n",
    "\n",
    "plt.figure(figsize=(10, 6))\n",
    "pivot_table.plot(kind='bar', legend=False)\n",
    "plt.xlabel('Month')\n",
    "plt.ylabel('Total Inventory Level')\n",
    "plt.title('Total Monthly Inventory Levels (Pivot Table)')\n",
    "plt.xticks(rotation=45, ha='right')\n",
    "plt.tight_layout()\n",
    "plt.show()"
   ]
  },
  {
   "cell_type": "code",
   "execution_count": null,
   "id": "16a0305f",
   "metadata": {},
   "outputs": [],
   "source": []
  },
  {
   "cell_type": "code",
   "execution_count": null,
   "id": "2e2ba6e3",
   "metadata": {},
   "outputs": [],
   "source": []
  },
  {
   "cell_type": "code",
   "execution_count": null,
   "id": "ba9dc562",
   "metadata": {},
   "outputs": [],
   "source": []
  }
 ],
 "metadata": {
  "kernelspec": {
   "display_name": "Python 3 (ipykernel)",
   "language": "python",
   "name": "python3"
  },
  "language_info": {
   "codemirror_mode": {
    "name": "ipython",
    "version": 3
   },
   "file_extension": ".py",
   "mimetype": "text/x-python",
   "name": "python",
   "nbconvert_exporter": "python",
   "pygments_lexer": "ipython3",
   "version": "3.10.9"
  }
 },
 "nbformat": 4,
 "nbformat_minor": 5
}
